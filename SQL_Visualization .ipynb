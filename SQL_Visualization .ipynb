{
 "cells": [
  {
   "cell_type": "markdown",
   "id": "f0231be8",
   "metadata": {},
   "source": [
    "# Data Preparation and Visualization"
   ]
  },
  {
   "cell_type": "markdown",
   "id": "40e65dfa",
   "metadata": {},
   "source": [
    "## 2. Contribution report\n",
    "\n",
    "After completing the assignment, please answer the following questions **as a group** by adding your answers within this markdown block.\n",
    "\n",
    "1. In a few sentences, describe each group member's individual contributions to the submission. Be as specific as possible (e.g. coordinated group efforts, specific problems answered, specific problems reviewed/revised, sections of the submission written, etc.).\n",
    "\n",
    "\n",
    "    Niriksha Sheth: Coordinated group efforts by dividng the tasks among the group memebers and documenting topics discussed after a zoom meeting with the group members. \n",
    "    Responsible for part 2 of the assignment which includes to write a query for the top performing dealerships and creating a visualization based on the dataframe created. Also responsible for the associated response in part 4. Provided assistance and expertise in creating visualization for part 3 as a group effort. \n",
    "\n",
    "\n",
    "2. In a few sentences, describe what was learned in completing this assignment. In particular, describe what was learned through the **specific individual contributions** mentioned above.\n",
    "    \n",
    "  Niriksha: I learned how to formulate a query based on what was required from my boss and was able to understand the big picture as well as the details required in pulling the right data from the database. I was able to apply the concept of Common Table Expressions and Window Functions taught in class to effectively calculate the cumulative sales in part 2. I also learned how to read a query and store the query in a python dataframe as well as how to display and manipulate the dataframe in python. The most interesting part of the assignment was to create visualizations using python libraries matplotlib and seaborn, which was quite challenging in the beginning but after several trial and errors, was able to produce a clean visualization for displaying the historical trend in cumulative sales over time by dealership states. I believe the most important takeaway from the visualization assignment is to identify which type of chart will work for what kind of data to best represent the output to my respective boss or the senior leadership team of a company. \n",
    "\n",
    "***"
   ]
  },
  {
   "cell_type": "markdown",
   "id": "d5eadb26",
   "metadata": {},
   "source": [
    "## 3. Assignment\n",
    "\n",
    "### Instructions: \n",
    "You will be presented with a scenario and will need to utilize your SQL and python skills to complete this assignment successfully. \n",
    "\n",
    "Put this .ipynb file in the `jupyter_notebooks` folder in your Docker Compose directory.  Then you will be able to connect to the database and run your code without issue.\n",
    "\n",
    "Each group will submit two files:\n",
    "1. a single Jupyter Notebook (.ipynb).  **You must Run All cells before submitting.** This notebook should have all of the relevant visualizations and output displayed properly.  We will restart and run all of the code from this notebook, which should not produce any errors.\n",
    "2. a PDF version (.pdf) of the Jupyter Notebook. This PDF should have all of the relevant visualizations and output displayed properly. "
   ]
  },
  {
   "cell_type": "code",
   "execution_count": 1,
   "id": "1de42dc2",
   "metadata": {},
   "outputs": [
    {
     "name": "stdout",
     "output_type": "stream",
     "text": [
      "postgresql+psycopg2://{username}:{pswd}@{host}:{port}/{database}\n"
     ]
    },
    {
     "data": {
      "text/plain": [
       "[(1, None, 'Arlena', 'Riveles', None, 'ariveles0@stumbleupon.com', 'F', '98.36.172.246', None, None, None, None, None, None, None, datetime.datetime(2017, 4, 23, 0, 0)),\n",
       " (2, 'Dr', 'Ode', 'Stovin', None, 'ostovin1@npr.org', 'M', '16.97.59.186', '314-534-4361', '2573 Fordem Parkway', 'Saint Louis', 'MO', '63116', 38.5814, -90.2625, datetime.datetime(2014, 10, 2, 0, 0))]"
      ]
     },
     "execution_count": 1,
     "metadata": {},
     "output_type": "execute_result"
    }
   ],
   "source": [
    "#run this code first to connect to the database and verify the connection is working\n",
    "## DO NOT MODIFY THIS CODE BLOCK\n",
    "## If you have placed this notebook in the jupyter notebooks folder properly, \n",
    "## this block should return the first two rows of the customers table\n",
    "\n",
    "from sqlalchemy import create_engine\n",
    "import pandas as pd\n",
    "import numpy as np\n",
    "import matplotlib.pyplot as plt\n",
    "import seaborn as sns\n",
    "from IPython.core.interactiveshell import InteractiveShell\n",
    "InteractiveShell.ast_node_interactivity = \"all\"\n",
    "\n",
    "%matplotlib inline\n",
    "\n",
    "cnxn_string = (\"postgresql+psycopg2://{username}:{pswd}\"\n",
    "              \"@{host}:{port}/{database}\")\n",
    "print(cnxn_string)\n",
    "\n",
    "engine = create_engine(cnxn_string.format(\n",
    "    username=\"postgres\",\n",
    "    pswd=\"behappy\",\n",
    "    host=\"postgres\",\n",
    "    port=5432,\n",
    "    database=\"sqlda\"))\n",
    "\n",
    "engine.execute(\"SELECT * FROM customers LIMIT 2;\").fetchall()"
   ]
  },
  {
   "cell_type": "markdown",
   "id": "46d3ef9e",
   "metadata": {},
   "source": [
    "## Scenario \n",
    "\n",
    "You are a team of extremely successful data scientists at a top motor dealership company. You need to create summary tables and visualizations that your boss will present at the next company shareholder meeting.  She has sent you the following e-mail describing what she needs.\n",
    "\n",
    "***\n",
    "From: importantboss@topmotordealershipcompany.com\n",
    "\n",
    "To: datascienceteam@topmotordealershipcompany.com\n",
    "\n",
    "Subject: Data request for shareholder meeting\n",
    "\n",
    "We are planning to expand our services in states with the highest sales amounts.  For our next shareholder meeting, we need to provide more information about sales performance at the state level and possible reasons why sales are lower in some states.  Please send me information to address the following items for our next shareholder meeting along with your thoughts.\n",
    "\n",
    "1. Sales performance at the state level (top 5 and bottom 5 states)\n",
    "2. For the best performing states, which dealerships are performing well and how are they trending?\n",
    "3. Is sales performance by state associated with the types of products sold (scooter vs. automobile)?\n",
    "\n",
    "Thank you!\n",
    "\n",
    "-Important Boss\n",
    "\n",
    "***"
   ]
  },
  {
   "cell_type": "markdown",
   "id": "f0a35e92",
   "metadata": {},
   "source": [
    "Your team promptly comes up with the following plan."
   ]
  },
  {
   "cell_type": "markdown",
   "id": "b2fa35b6",
   "metadata": {},
   "source": [
    "## Part 1: Visualizing the top and bottom performing states\n",
    "\n",
    "1. Write a SELECT query that returns the total sales amount for each state from January 1, 2017 to now.  The table should have two columns, `state` and `total_sales_amount`, with one row for each state ordered by `total_sales_amount` in *descending* order. Make sure that `total_sales_amount` is rounded appropriately.\n",
    "\n",
    "\n",
    "2. Use SQLAlchemy to execute the query and store the results in a pandas dataframe called `sales_by_state`.\n",
    "\n",
    "\n",
    "3. Display the rows in `sales_by_state` corresponding to the 5 states with the **largest** total sales amount in *descending* order.\n",
    "\n",
    "\n",
    "4. Display the rows in `sales_by_state` corresponding to the 5 states with the **smallest** total sales amount in *ascending* order.\n",
    "\n",
    "\n",
    "5. Visualize sales performance by state for the top and bottom performing states discovered in 1.3 and 1.4.  You can use more than one visualization.  These should be **presentation ready** (e.g. appropriate and complete titles and axis labels, remove unnecessary/distracting features, display date range for total sales, no overlapping axis labels, etc.). \n",
    "\n",
    "Include the code needed for each component of part 1 in the appropriate code block below."
   ]
  },
  {
   "cell_type": "code",
   "execution_count": 2,
   "id": "342643df",
   "metadata": {},
   "outputs": [],
   "source": [
    "#1.1 select query\n",
    "query_1 = \"\"\"\n",
    "select d.state, round(sum(s.sales_amount)) as total_sales_amount from sales s inner join dealerships d on s.dealership_id = d.dealership_id\n",
    "where s.sales_transaction_date >= '2017-01-01'\n",
    "group by d.state\n",
    "order by total_sales_amount desc\n",
    "\"\"\""
   ]
  },
  {
   "cell_type": "code",
   "execution_count": 3,
   "id": "81539240",
   "metadata": {},
   "outputs": [],
   "source": [
    "#1.2 create dataframe\n",
    "sales_by_state = pd.read_sql_query(query_1,engine)"
   ]
  },
  {
   "cell_type": "code",
   "execution_count": 4,
   "id": "257adc19",
   "metadata": {},
   "outputs": [
    {
     "data": {
      "text/html": [
       "<div>\n",
       "<style scoped>\n",
       "    .dataframe tbody tr th:only-of-type {\n",
       "        vertical-align: middle;\n",
       "    }\n",
       "\n",
       "    .dataframe tbody tr th {\n",
       "        vertical-align: top;\n",
       "    }\n",
       "\n",
       "    .dataframe thead th {\n",
       "        text-align: right;\n",
       "    }\n",
       "</style>\n",
       "<table border=\"1\" class=\"dataframe\">\n",
       "  <thead>\n",
       "    <tr style=\"text-align: right;\">\n",
       "      <th></th>\n",
       "      <th>state</th>\n",
       "      <th>total_sales_amount</th>\n",
       "    </tr>\n",
       "  </thead>\n",
       "  <tbody>\n",
       "    <tr>\n",
       "      <th>0</th>\n",
       "      <td>TX</td>\n",
       "      <td>12690936.0</td>\n",
       "    </tr>\n",
       "    <tr>\n",
       "      <th>1</th>\n",
       "      <td>CA</td>\n",
       "      <td>10969372.0</td>\n",
       "    </tr>\n",
       "    <tr>\n",
       "      <th>2</th>\n",
       "      <td>IL</td>\n",
       "      <td>10420333.0</td>\n",
       "    </tr>\n",
       "    <tr>\n",
       "      <th>3</th>\n",
       "      <td>VA</td>\n",
       "      <td>8065776.0</td>\n",
       "    </tr>\n",
       "    <tr>\n",
       "      <th>4</th>\n",
       "      <td>NJ</td>\n",
       "      <td>7219212.0</td>\n",
       "    </tr>\n",
       "  </tbody>\n",
       "</table>\n",
       "</div>"
      ],
      "text/plain": [
       "  state  total_sales_amount\n",
       "0    TX          12690936.0\n",
       "1    CA          10969372.0\n",
       "2    IL          10420333.0\n",
       "3    VA           8065776.0\n",
       "4    NJ           7219212.0"
      ]
     },
     "execution_count": 4,
     "metadata": {},
     "output_type": "execute_result"
    }
   ],
   "source": [
    "#1.3 display top 5 performing states\n",
    "top_performing_states=sales_by_state.head(5)\n",
    "top_performing_states"
   ]
  },
  {
   "cell_type": "code",
   "execution_count": 5,
   "id": "85cfd4ef",
   "metadata": {},
   "outputs": [
    {
     "data": {
      "text/html": [
       "<div>\n",
       "<style scoped>\n",
       "    .dataframe tbody tr th:only-of-type {\n",
       "        vertical-align: middle;\n",
       "    }\n",
       "\n",
       "    .dataframe tbody tr th {\n",
       "        vertical-align: top;\n",
       "    }\n",
       "\n",
       "    .dataframe thead th {\n",
       "        text-align: right;\n",
       "    }\n",
       "</style>\n",
       "<table border=\"1\" class=\"dataframe\">\n",
       "  <thead>\n",
       "    <tr style=\"text-align: right;\">\n",
       "      <th></th>\n",
       "      <th>state</th>\n",
       "      <th>total_sales_amount</th>\n",
       "    </tr>\n",
       "  </thead>\n",
       "  <tbody>\n",
       "    <tr>\n",
       "      <th>10</th>\n",
       "      <td>AZ</td>\n",
       "      <td>2869986.0</td>\n",
       "    </tr>\n",
       "    <tr>\n",
       "      <th>11</th>\n",
       "      <td>PA</td>\n",
       "      <td>2199877.0</td>\n",
       "    </tr>\n",
       "    <tr>\n",
       "      <th>12</th>\n",
       "      <td>NV</td>\n",
       "      <td>1993748.0</td>\n",
       "    </tr>\n",
       "    <tr>\n",
       "      <th>13</th>\n",
       "      <td>MA</td>\n",
       "      <td>1827013.0</td>\n",
       "    </tr>\n",
       "    <tr>\n",
       "      <th>14</th>\n",
       "      <td>OR</td>\n",
       "      <td>966218.0</td>\n",
       "    </tr>\n",
       "  </tbody>\n",
       "</table>\n",
       "</div>"
      ],
      "text/plain": [
       "   state  total_sales_amount\n",
       "10    AZ           2869986.0\n",
       "11    PA           2199877.0\n",
       "12    NV           1993748.0\n",
       "13    MA           1827013.0\n",
       "14    OR            966218.0"
      ]
     },
     "execution_count": 5,
     "metadata": {},
     "output_type": "execute_result"
    }
   ],
   "source": [
    "#1.4 display bottom 5 performing states\n",
    "bottom_performing_states=sales_by_state.tail(5)\n",
    "bottom_performing_states"
   ]
  },
  {
   "cell_type": "code",
   "execution_count": 6,
   "id": "2e37aae3",
   "metadata": {},
   "outputs": [
    {
     "data": {
      "text/plain": [
       "<AxesSubplot:xlabel='state'>"
      ]
     },
     "execution_count": 6,
     "metadata": {},
     "output_type": "execute_result"
    },
    {
     "data": {
      "text/plain": [
       "<AxesSubplot:xlabel='state'>"
      ]
     },
     "execution_count": 6,
     "metadata": {},
     "output_type": "execute_result"
    },
    {
     "data": {
      "image/png": "[encoded data removed]",
      "text/plain": [
       "<Figure size 640x480 with 1 Axes>"
      ]
     },
     "metadata": {},
     "output_type": "display_data"
    },
    {
     "data": {
      "image/png": "[encoded data removed]",
      "text/plain": [
       "<Figure size 640x480 with 1 Axes>"
      ]
     },
     "metadata": {},
     "output_type": "display_data"
    }
   ],
   "source": [
    "#1.5 visualize top and bottom performing states\n",
    "top_performing_states.plot.bar('state',y='total_sales_amount')\n",
    "bottom_performing_states.plot.bar('state',y='total_sales_amount')"
   ]
  },
  {
   "cell_type": "markdown",
   "id": "7b3df305",
   "metadata": {},
   "source": [
    "## Part 2: Top performing dealerships\n",
    "\n",
    "Create a table and visualization of historical cumulative sales amounts by dealership from January 1, 2017 to now.  Only include dealerships located in the *top two* states determined in Part 1.  To do this, perform the following steps:\n",
    "    \n",
    "   1. Write a SELECT query that returns three columns: `dealership_id`,`sales_transaction_date`, and `cumulative_sales`.  `cumulative_sales` represents the cumulative sales amount from January 1, 2017 to the `sales_transaction_date` for dealership identified by `dealership_id`.  There should be a row for each distinct combination of `dealership_id` and `sales_transaction_date` in the `sales` table (*hint*: window function).\n",
    "    \n",
    "    \n",
    "   2. Use SQLAlchemy to execute the query and store the results in a pandas dataframe called `cumulative_sales_bydealership`.\n",
    "    \n",
    "    \n",
    "   3. Appropriately visualize historical cumulative sales by dealership across sales transaction dates *in a single plot* (*hint*: seaborn). Visualization should be **presentation ready** (e.g. appropriate and complete titles and legend/axis labels, remove unnecessary/distracting features, display date range for total sales, no overlapping axis labels, integer-valued dealership IDs, states indicated clearly, etc.). "
   ]
  },
  {
   "cell_type": "code",
   "execution_count": 2,
   "id": "aa2e82c9",
   "metadata": {},
   "outputs": [],
   "source": [
    "#2.1 select query\n",
    "query_2 = \"\"\"\n",
    "WITH top_performing_states as (\n",
    "select s.dealership_id, s.sales_transaction_date, CAST(s.sales_amount AS decimal(20,2))\n",
    "from sales s inner join dealerships d on s.dealership_id = d.dealership_id\n",
    "where (d.state='TX' OR d.state='CA') and s.sales_transaction_date >= '2017-01-01'\n",
    ")\n",
    "select dealership_id, sales_transaction_date::DATE, \n",
    "sum(sales_amount) over(partition by dealership_id order by sales_transaction_date rows between unbounded preceding and current row)\n",
    "as cumulative_sales\n",
    "from top_performing_states\n",
    "\"\"\""
   ]
  },
  {
   "cell_type": "code",
   "execution_count": 4,
   "id": "3bef8b9a",
   "metadata": {},
   "outputs": [
    {
     "data": {
      "text/html": [
       "<div>\n",
       "<style scoped>\n",
       "    .dataframe tbody tr th:only-of-type {\n",
       "        vertical-align: middle;\n",
       "    }\n",
       "\n",
       "    .dataframe tbody tr th {\n",
       "        vertical-align: top;\n",
       "    }\n",
       "\n",
       "    .dataframe thead th {\n",
       "        text-align: right;\n",
       "    }\n",
       "</style>\n",
       "<table border=\"1\" class=\"dataframe\">\n",
       "  <thead>\n",
       "    <tr style=\"text-align: right;\">\n",
       "      <th></th>\n",
       "      <th>dealership_id</th>\n",
       "      <th>sales_transaction_date</th>\n",
       "      <th>cumulative_sales</th>\n",
       "    </tr>\n",
       "  </thead>\n",
       "  <tbody>\n",
       "    <tr>\n",
       "      <th>0</th>\n",
       "      <td>2</td>\n",
       "      <td>2017-01-02</td>\n",
       "      <td>399.99</td>\n",
       "    </tr>\n",
       "    <tr>\n",
       "      <th>1</th>\n",
       "      <td>2</td>\n",
       "      <td>2017-01-06</td>\n",
       "      <td>799.98</td>\n",
       "    </tr>\n",
       "    <tr>\n",
       "      <th>2</th>\n",
       "      <td>2</td>\n",
       "      <td>2017-01-10</td>\n",
       "      <td>1199.97</td>\n",
       "    </tr>\n",
       "    <tr>\n",
       "      <th>3</th>\n",
       "      <td>2</td>\n",
       "      <td>2017-01-10</td>\n",
       "      <td>1799.96</td>\n",
       "    </tr>\n",
       "    <tr>\n",
       "      <th>4</th>\n",
       "      <td>2</td>\n",
       "      <td>2017-01-18</td>\n",
       "      <td>2399.95</td>\n",
       "    </tr>\n",
       "    <tr>\n",
       "      <th>...</th>\n",
       "      <td>...</td>\n",
       "      <td>...</td>\n",
       "      <td>...</td>\n",
       "    </tr>\n",
       "    <tr>\n",
       "      <th>3124</th>\n",
       "      <td>19</td>\n",
       "      <td>2019-05-25</td>\n",
       "      <td>5141794.63</td>\n",
       "    </tr>\n",
       "    <tr>\n",
       "      <th>3125</th>\n",
       "      <td>19</td>\n",
       "      <td>2019-05-25</td>\n",
       "      <td>5142144.62</td>\n",
       "    </tr>\n",
       "    <tr>\n",
       "      <th>3126</th>\n",
       "      <td>19</td>\n",
       "      <td>2019-05-28</td>\n",
       "      <td>5142844.61</td>\n",
       "    </tr>\n",
       "    <tr>\n",
       "      <th>3127</th>\n",
       "      <td>19</td>\n",
       "      <td>2019-05-30</td>\n",
       "      <td>5143194.60</td>\n",
       "    </tr>\n",
       "    <tr>\n",
       "      <th>3128</th>\n",
       "      <td>19</td>\n",
       "      <td>2019-05-31</td>\n",
       "      <td>5143509.59</td>\n",
       "    </tr>\n",
       "  </tbody>\n",
       "</table>\n",
       "<p>3129 rows × 3 columns</p>\n",
       "</div>"
      ],
      "text/plain": [
       "      dealership_id sales_transaction_date  cumulative_sales\n",
       "0                 2             2017-01-02            399.99\n",
       "1                 2             2017-01-06            799.98\n",
       "2                 2             2017-01-10           1199.97\n",
       "3                 2             2017-01-10           1799.96\n",
       "4                 2             2017-01-18           2399.95\n",
       "...             ...                    ...               ...\n",
       "3124             19             2019-05-25        5141794.63\n",
       "3125             19             2019-05-25        5142144.62\n",
       "3126             19             2019-05-28        5142844.61\n",
       "3127             19             2019-05-30        5143194.60\n",
       "3128             19             2019-05-31        5143509.59\n",
       "\n",
       "[3129 rows x 3 columns]"
      ]
     },
     "execution_count": 4,
     "metadata": {},
     "output_type": "execute_result"
    }
   ],
   "source": [
    "#2.2 create dataframe\n",
    "cumulative_sales_bydealership = pd.read_sql_query(query_2,engine)\n",
    "\n",
    "#converting data frame data types\n",
    "convert_dict = {'dealership_id': int,\n",
    "                }\n",
    " \n",
    "cumulative_sales_bydealership = cumulative_sales_bydealership.astype(convert_dict)\n",
    "cumulative_sales_bydealership"
   ]
  },
  {
   "cell_type": "code",
   "execution_count": 5,
   "id": "d8d935e2",
   "metadata": {},
   "outputs": [
    {
     "data": {
      "text/plain": [
       "<Figure size 1000x1000 with 0 Axes>"
      ]
     },
     "execution_count": 5,
     "metadata": {},
     "output_type": "execute_result"
    },
    {
     "data": {
      "text/plain": [
       "Text(0.5, 0.98, 'Historical Cumulative Sales by Dealership in CA & TX')"
      ]
     },
     "execution_count": 5,
     "metadata": {},
     "output_type": "execute_result"
    },
    {
     "data": {
      "text/plain": [
       "<seaborn.axisgrid.FacetGrid at 0x408485a2b0>"
      ]
     },
     "execution_count": 5,
     "metadata": {},
     "output_type": "execute_result"
    },
    {
     "data": {
      "text/plain": [
       "<seaborn.axisgrid.FacetGrid at 0x408485a2b0>"
      ]
     },
     "execution_count": 5,
     "metadata": {},
     "output_type": "execute_result"
    },
    {
     "data": {
      "text/plain": [
       "<Figure size 1000x1000 with 0 Axes>"
      ]
     },
     "metadata": {},
     "output_type": "display_data"
    },
    {
     "data": {
      "image/png": "[encoded data removed]",
      "text/plain": [
       "<Figure size 892.722x700 with 1 Axes>"
      ]
     },
     "metadata": {},
     "output_type": "display_data"
    }
   ],
   "source": [
    "#2.3 visualization\n",
    "import seaborn as sns\n",
    "import matplotlib.pyplot as plt\n",
    "\n",
    "#setting the seaborn style to darkgrid\n",
    "sns.set(style=\"darkgrid\")\n",
    "\n",
    "#set the plot size\n",
    "plt.figure(figsize=(10,10))\n",
    "\n",
    "#creating a seaborn relplot\n",
    "g=sns.relplot(data=cumulative_sales_bydealership, x=\"sales_transaction_date\", y=\"cumulative_sales\", hue=\"dealership_id\",\n",
    "              kind=\"line\",size=\"dealership_id\", palette=\"deep\", legend=\"full\", height=7, aspect=1.1)\n",
    "\n",
    "\n",
    "#adding a title to the seaborn plot\n",
    "g.fig.suptitle(\"Historical Cumulative Sales by Dealership in CA & TX\")\n",
    "\n",
    "#setting axis labels to appropirate titles respectively\n",
    "g.set(ylabel=\"Cumulative Sales\", \n",
    "       xlabel=\"Sales Transaction Date\")\n",
    "\n",
    "#setting legend title\n",
    "g._legend.set_title('Dealership ID')\n",
    "\n",
    "#setting additional legend parameters\n",
    "sns.move_legend(g, \"upper left\", bbox_to_anchor=(0.85, 0.96), frameon=True)\n",
    "\n",
    "#setting a rotation parameter for the x axis to avoid overlapping labels\n",
    "g.set_xticklabels(rotation=35)\n",
    "\n",
    "#setting style as plain to avoid scientific notation for cumulative sales\n",
    "plt.ticklabel_format(style='plain', axis='y')\n",
    "\n",
    "plt.show()\n",
    "\n",
    "#notes: line plot takes a few minutes to load"
   ]
  },
  {
   "cell_type": "markdown",
   "id": "8c66a03d",
   "metadata": {},
   "source": [
    "## Part 3: Product mix and sales\n",
    "\n",
    "Create tables and visualizations to compare the proportion of scooter sales with total sales amount by state for sales from January 2017 to now. To do this, perform the following steps:\n",
    "    \n",
    "   1. Write a SELECT query that returns three columns: `state`,`prop_scooters`, and `total_sales`.  `prop_scooters` represents the proportion of scooter sales out of all sales made from January 2017 to now, `total_sales` represents the total sales amount from January 1, 2017 to now.  There should be one row for each state *and no more*.\n",
    "    \n",
    "    \n",
    "   2. Use SQLAlchemy to execute the query and store the results in a pandas dataframe called `prop_scoot`.\n",
    "    \n",
    "    \n",
    "   3. Appropriately visualize the relationship between proportion of scooter sales and total sales *in a single plot*. Visualization should be **presentation ready** (e.g. appropriate and complete titles and legend/axis labels, remove unnecessary/distracting features, display date range for total sales, no overlapping axis labels, etc.). "
   ]
  },
  {
   "cell_type": "code",
   "execution_count": 30,
   "id": "2cd52002",
   "metadata": {},
   "outputs": [],
   "source": [
    "#3.1 select query\n",
    "query_3 = \"\"\"\n",
    "WITH CTE AS( \n",
    "        SELECT c.state, CAST(SUM(s.sales_amount) AS DECIMAL (20,2)) AS total_sales,  \n",
    "           SUM(CASE WHEN p.product_type='scooter' THEN 1  \n",
    "           ELSE 0 END)::FLOAT/COUNT(*)  AS prop_scooters \n",
    "        FROM sales as s \n",
    "        INNER JOIN customers as c \n",
    "        ON s.customer_id= c.customer_id \n",
    "        INNER JOIN products as p \n",
    "        ON s.product_id = p.product_id \n",
    "        WHERE sales_transaction_date::DATE >= '2017-01-01' AND c.state IS NOT NULL \n",
    "        GROUP BY c.state \n",
    "        ORDER BY c.state, total_sales \n",
    "        ) \n",
    "    SELECT state, prop_scooters, total_sales\n",
    "    FROM CTE\n",
    "    order by total_sales DESC\n",
    "\"\"\""
   ]
  },
  {
   "cell_type": "code",
   "execution_count": 31,
   "id": "f2bdc9f4",
   "metadata": {},
   "outputs": [
    {
     "data": {
      "text/html": [
       "<div>\n",
       "<style scoped>\n",
       "    .dataframe tbody tr th:only-of-type {\n",
       "        vertical-align: middle;\n",
       "    }\n",
       "\n",
       "    .dataframe tbody tr th {\n",
       "        vertical-align: top;\n",
       "    }\n",
       "\n",
       "    .dataframe thead th {\n",
       "        text-align: right;\n",
       "    }\n",
       "</style>\n",
       "<table border=\"1\" class=\"dataframe\">\n",
       "  <thead>\n",
       "    <tr style=\"text-align: right;\">\n",
       "      <th></th>\n",
       "      <th>state</th>\n",
       "      <th>prop_scooters</th>\n",
       "      <th>total_sales</th>\n",
       "    </tr>\n",
       "  </thead>\n",
       "  <tbody>\n",
       "    <tr>\n",
       "      <th>0</th>\n",
       "      <td>CA</td>\n",
       "      <td>0.897876</td>\n",
       "      <td>15857815.99</td>\n",
       "    </tr>\n",
       "    <tr>\n",
       "      <th>1</th>\n",
       "      <td>TX</td>\n",
       "      <td>0.890336</td>\n",
       "      <td>15425788.00</td>\n",
       "    </tr>\n",
       "    <tr>\n",
       "      <th>2</th>\n",
       "      <td>FL</td>\n",
       "      <td>0.897781</td>\n",
       "      <td>10410607.25</td>\n",
       "    </tr>\n",
       "    <tr>\n",
       "      <th>3</th>\n",
       "      <td>NY</td>\n",
       "      <td>0.889960</td>\n",
       "      <td>9523439.42</td>\n",
       "    </tr>\n",
       "    <tr>\n",
       "      <th>4</th>\n",
       "      <td>PA</td>\n",
       "      <td>0.888342</td>\n",
       "      <td>5031834.85</td>\n",
       "    </tr>\n",
       "    <tr>\n",
       "      <th>5</th>\n",
       "      <td>DC</td>\n",
       "      <td>0.899833</td>\n",
       "      <td>4747799.88</td>\n",
       "    </tr>\n",
       "    <tr>\n",
       "      <th>6</th>\n",
       "      <td>VA</td>\n",
       "      <td>0.912917</td>\n",
       "      <td>4407463.98</td>\n",
       "    </tr>\n",
       "    <tr>\n",
       "      <th>7</th>\n",
       "      <td>OH</td>\n",
       "      <td>0.912593</td>\n",
       "      <td>4198514.12</td>\n",
       "    </tr>\n",
       "    <tr>\n",
       "      <th>8</th>\n",
       "      <td>GA</td>\n",
       "      <td>0.892336</td>\n",
       "      <td>4113195.33</td>\n",
       "    </tr>\n",
       "    <tr>\n",
       "      <th>9</th>\n",
       "      <td>MO</td>\n",
       "      <td>0.881607</td>\n",
       "      <td>4002390.99</td>\n",
       "    </tr>\n",
       "    <tr>\n",
       "      <th>10</th>\n",
       "      <td>IL</td>\n",
       "      <td>0.904472</td>\n",
       "      <td>3585130.76</td>\n",
       "    </tr>\n",
       "    <tr>\n",
       "      <th>11</th>\n",
       "      <td>NC</td>\n",
       "      <td>0.879747</td>\n",
       "      <td>3575996.01</td>\n",
       "    </tr>\n",
       "    <tr>\n",
       "      <th>12</th>\n",
       "      <td>MN</td>\n",
       "      <td>0.886311</td>\n",
       "      <td>3455946.36</td>\n",
       "    </tr>\n",
       "    <tr>\n",
       "      <th>13</th>\n",
       "      <td>IN</td>\n",
       "      <td>0.886889</td>\n",
       "      <td>3294076.71</td>\n",
       "    </tr>\n",
       "    <tr>\n",
       "      <th>14</th>\n",
       "      <td>AL</td>\n",
       "      <td>0.885645</td>\n",
       "      <td>3197966.52</td>\n",
       "    </tr>\n",
       "    <tr>\n",
       "      <th>15</th>\n",
       "      <td>WA</td>\n",
       "      <td>0.897129</td>\n",
       "      <td>3072641.42</td>\n",
       "    </tr>\n",
       "    <tr>\n",
       "      <th>16</th>\n",
       "      <td>MI</td>\n",
       "      <td>0.890306</td>\n",
       "      <td>3052826.66</td>\n",
       "    </tr>\n",
       "    <tr>\n",
       "      <th>17</th>\n",
       "      <td>TN</td>\n",
       "      <td>0.907692</td>\n",
       "      <td>3011376.64</td>\n",
       "    </tr>\n",
       "    <tr>\n",
       "      <th>18</th>\n",
       "      <td>CO</td>\n",
       "      <td>0.904206</td>\n",
       "      <td>2694911.29</td>\n",
       "    </tr>\n",
       "    <tr>\n",
       "      <th>19</th>\n",
       "      <td>LA</td>\n",
       "      <td>0.907895</td>\n",
       "      <td>2558471.73</td>\n",
       "    </tr>\n",
       "    <tr>\n",
       "      <th>20</th>\n",
       "      <td>AZ</td>\n",
       "      <td>0.908309</td>\n",
       "      <td>2266906.98</td>\n",
       "    </tr>\n",
       "    <tr>\n",
       "      <th>21</th>\n",
       "      <td>KY</td>\n",
       "      <td>0.872587</td>\n",
       "      <td>2148697.84</td>\n",
       "    </tr>\n",
       "    <tr>\n",
       "      <th>22</th>\n",
       "      <td>MA</td>\n",
       "      <td>0.882353</td>\n",
       "      <td>2133992.85</td>\n",
       "    </tr>\n",
       "    <tr>\n",
       "      <th>23</th>\n",
       "      <td>WV</td>\n",
       "      <td>0.861244</td>\n",
       "      <td>2133073.28</td>\n",
       "    </tr>\n",
       "    <tr>\n",
       "      <th>24</th>\n",
       "      <td>OK</td>\n",
       "      <td>0.910596</td>\n",
       "      <td>2095892.40</td>\n",
       "    </tr>\n",
       "    <tr>\n",
       "      <th>25</th>\n",
       "      <td>KS</td>\n",
       "      <td>0.889680</td>\n",
       "      <td>2081442.62</td>\n",
       "    </tr>\n",
       "    <tr>\n",
       "      <th>26</th>\n",
       "      <td>WI</td>\n",
       "      <td>0.856459</td>\n",
       "      <td>2063418.28</td>\n",
       "    </tr>\n",
       "    <tr>\n",
       "      <th>27</th>\n",
       "      <td>CT</td>\n",
       "      <td>0.888430</td>\n",
       "      <td>1931432.95</td>\n",
       "    </tr>\n",
       "    <tr>\n",
       "      <th>28</th>\n",
       "      <td>NV</td>\n",
       "      <td>0.899281</td>\n",
       "      <td>1875462.60</td>\n",
       "    </tr>\n",
       "    <tr>\n",
       "      <th>29</th>\n",
       "      <td>MD</td>\n",
       "      <td>0.901709</td>\n",
       "      <td>1711213.00</td>\n",
       "    </tr>\n",
       "    <tr>\n",
       "      <th>30</th>\n",
       "      <td>SC</td>\n",
       "      <td>0.905941</td>\n",
       "      <td>1461923.25</td>\n",
       "    </tr>\n",
       "    <tr>\n",
       "      <th>31</th>\n",
       "      <td>UT</td>\n",
       "      <td>0.903226</td>\n",
       "      <td>1234198.39</td>\n",
       "    </tr>\n",
       "    <tr>\n",
       "      <th>32</th>\n",
       "      <td>AR</td>\n",
       "      <td>0.854369</td>\n",
       "      <td>997384.16</td>\n",
       "    </tr>\n",
       "    <tr>\n",
       "      <th>33</th>\n",
       "      <td>OR</td>\n",
       "      <td>0.906250</td>\n",
       "      <td>961368.60</td>\n",
       "    </tr>\n",
       "    <tr>\n",
       "      <th>34</th>\n",
       "      <td>ID</td>\n",
       "      <td>0.893204</td>\n",
       "      <td>868799.12</td>\n",
       "    </tr>\n",
       "    <tr>\n",
       "      <th>35</th>\n",
       "      <td>MS</td>\n",
       "      <td>0.906475</td>\n",
       "      <td>835088.79</td>\n",
       "    </tr>\n",
       "    <tr>\n",
       "      <th>36</th>\n",
       "      <td>NE</td>\n",
       "      <td>0.916230</td>\n",
       "      <td>833143.33</td>\n",
       "    </tr>\n",
       "    <tr>\n",
       "      <th>37</th>\n",
       "      <td>IA</td>\n",
       "      <td>0.926136</td>\n",
       "      <td>753738.45</td>\n",
       "    </tr>\n",
       "    <tr>\n",
       "      <th>38</th>\n",
       "      <td>AK</td>\n",
       "      <td>0.886076</td>\n",
       "      <td>670069.33</td>\n",
       "    </tr>\n",
       "    <tr>\n",
       "      <th>39</th>\n",
       "      <td>NJ</td>\n",
       "      <td>0.948864</td>\n",
       "      <td>646548.40</td>\n",
       "    </tr>\n",
       "    <tr>\n",
       "      <th>40</th>\n",
       "      <td>HI</td>\n",
       "      <td>0.905882</td>\n",
       "      <td>641439.27</td>\n",
       "    </tr>\n",
       "    <tr>\n",
       "      <th>41</th>\n",
       "      <td>DE</td>\n",
       "      <td>0.823529</td>\n",
       "      <td>578364.60</td>\n",
       "    </tr>\n",
       "    <tr>\n",
       "      <th>42</th>\n",
       "      <td>NM</td>\n",
       "      <td>0.920000</td>\n",
       "      <td>560044.12</td>\n",
       "    </tr>\n",
       "    <tr>\n",
       "      <th>43</th>\n",
       "      <td>ND</td>\n",
       "      <td>0.882353</td>\n",
       "      <td>415769.71</td>\n",
       "    </tr>\n",
       "    <tr>\n",
       "      <th>44</th>\n",
       "      <td>NH</td>\n",
       "      <td>0.852941</td>\n",
       "      <td>371714.72</td>\n",
       "    </tr>\n",
       "    <tr>\n",
       "      <th>45</th>\n",
       "      <td>MT</td>\n",
       "      <td>0.962264</td>\n",
       "      <td>163149.51</td>\n",
       "    </tr>\n",
       "    <tr>\n",
       "      <th>46</th>\n",
       "      <td>ME</td>\n",
       "      <td>0.900000</td>\n",
       "      <td>36364.92</td>\n",
       "    </tr>\n",
       "    <tr>\n",
       "      <th>47</th>\n",
       "      <td>VT</td>\n",
       "      <td>0.800000</td>\n",
       "      <td>30014.96</td>\n",
       "    </tr>\n",
       "    <tr>\n",
       "      <th>48</th>\n",
       "      <td>SD</td>\n",
       "      <td>1.000000</td>\n",
       "      <td>24179.58</td>\n",
       "    </tr>\n",
       "    <tr>\n",
       "      <th>49</th>\n",
       "      <td>RI</td>\n",
       "      <td>1.000000</td>\n",
       "      <td>6099.90</td>\n",
       "    </tr>\n",
       "    <tr>\n",
       "      <th>50</th>\n",
       "      <td>WY</td>\n",
       "      <td>1.000000</td>\n",
       "      <td>3249.94</td>\n",
       "    </tr>\n",
       "  </tbody>\n",
       "</table>\n",
       "</div>"
      ],
      "text/plain": [
       "   state  prop_scooters  total_sales\n",
       "0     CA       0.897876  15857815.99\n",
       "1     TX       0.890336  15425788.00\n",
       "2     FL       0.897781  10410607.25\n",
       "3     NY       0.889960   9523439.42\n",
       "4     PA       0.888342   5031834.85\n",
       "5     DC       0.899833   4747799.88\n",
       "6     VA       0.912917   4407463.98\n",
       "7     OH       0.912593   4198514.12\n",
       "8     GA       0.892336   4113195.33\n",
       "9     MO       0.881607   4002390.99\n",
       "10    IL       0.904472   3585130.76\n",
       "11    NC       0.879747   3575996.01\n",
       "12    MN       0.886311   3455946.36\n",
       "13    IN       0.886889   3294076.71\n",
       "14    AL       0.885645   3197966.52\n",
       "15    WA       0.897129   3072641.42\n",
       "16    MI       0.890306   3052826.66\n",
       "17    TN       0.907692   3011376.64\n",
       "18    CO       0.904206   2694911.29\n",
       "19    LA       0.907895   2558471.73\n",
       "20    AZ       0.908309   2266906.98\n",
       "21    KY       0.872587   2148697.84\n",
       "22    MA       0.882353   2133992.85\n",
       "23    WV       0.861244   2133073.28\n",
       "24    OK       0.910596   2095892.40\n",
       "25    KS       0.889680   2081442.62\n",
       "26    WI       0.856459   2063418.28\n",
       "27    CT       0.888430   1931432.95\n",
       "28    NV       0.899281   1875462.60\n",
       "29    MD       0.901709   1711213.00\n",
       "30    SC       0.905941   1461923.25\n",
       "31    UT       0.903226   1234198.39\n",
       "32    AR       0.854369    997384.16\n",
       "33    OR       0.906250    961368.60\n",
       "34    ID       0.893204    868799.12\n",
       "35    MS       0.906475    835088.79\n",
       "36    NE       0.916230    833143.33\n",
       "37    IA       0.926136    753738.45\n",
       "38    AK       0.886076    670069.33\n",
       "39    NJ       0.948864    646548.40\n",
       "40    HI       0.905882    641439.27\n",
       "41    DE       0.823529    578364.60\n",
       "42    NM       0.920000    560044.12\n",
       "43    ND       0.882353    415769.71\n",
       "44    NH       0.852941    371714.72\n",
       "45    MT       0.962264    163149.51\n",
       "46    ME       0.900000     36364.92\n",
       "47    VT       0.800000     30014.96\n",
       "48    SD       1.000000     24179.58\n",
       "49    RI       1.000000      6099.90\n",
       "50    WY       1.000000      3249.94"
      ]
     },
     "execution_count": 31,
     "metadata": {},
     "output_type": "execute_result"
    }
   ],
   "source": [
    "#3.2 create data frame\n",
    "prop_scoot = pd.read_sql_query(query_3,engine)\n",
    "prop_scoot"
   ]
  },
  {
   "cell_type": "code",
   "execution_count": 32,
   "id": "4915ce52",
   "metadata": {},
   "outputs": [
    {
     "data": {
      "text/plain": [
       "<Figure size 1500x1000 with 0 Axes>"
      ]
     },
     "execution_count": 32,
     "metadata": {},
     "output_type": "execute_result"
    },
    {
     "data": {
      "text/plain": [
       "[Text(0, 0.5, 'Sales Amount'), Text(0.5, 0, 'State')]"
      ]
     },
     "execution_count": 32,
     "metadata": {},
     "output_type": "execute_result"
    },
    {
     "data": {
      "text/plain": [
       "[Text(0.5, 1.0, 'Proportion of Scooter Sales to Total Sales by State')]"
      ]
     },
     "execution_count": 32,
     "metadata": {},
     "output_type": "execute_result"
    },
    {
     "data": {
      "text/plain": [
       "<matplotlib.legend.Legend at 0x40938f1b00>"
      ]
     },
     "execution_count": 32,
     "metadata": {},
     "output_type": "execute_result"
    },
    {
     "data": {
      "text/plain": [
       "[Text(0, 0, 'CA'),\n",
       " Text(1, 0, 'TX'),\n",
       " Text(2, 0, 'FL'),\n",
       " Text(3, 0, 'NY'),\n",
       " Text(4, 0, 'PA'),\n",
       " Text(5, 0, 'DC'),\n",
       " Text(6, 0, 'VA'),\n",
       " Text(7, 0, 'OH'),\n",
       " Text(8, 0, 'GA'),\n",
       " Text(9, 0, 'MO'),\n",
       " Text(10, 0, 'IL'),\n",
       " Text(11, 0, 'NC'),\n",
       " Text(12, 0, 'MN'),\n",
       " Text(13, 0, 'IN'),\n",
       " Text(14, 0, 'AL'),\n",
       " Text(15, 0, 'WA'),\n",
       " Text(16, 0, 'MI'),\n",
       " Text(17, 0, 'TN'),\n",
       " Text(18, 0, 'CO'),\n",
       " Text(19, 0, 'LA'),\n",
       " Text(20, 0, 'AZ'),\n",
       " Text(21, 0, 'KY'),\n",
       " Text(22, 0, 'MA'),\n",
       " Text(23, 0, 'WV'),\n",
       " Text(24, 0, 'OK'),\n",
       " Text(25, 0, 'KS'),\n",
       " Text(26, 0, 'WI'),\n",
       " Text(27, 0, 'CT'),\n",
       " Text(28, 0, 'NV'),\n",
       " Text(29, 0, 'MD'),\n",
       " Text(30, 0, 'SC'),\n",
       " Text(31, 0, 'UT'),\n",
       " Text(32, 0, 'AR'),\n",
       " Text(33, 0, 'OR'),\n",
       " Text(34, 0, 'ID'),\n",
       " Text(35, 0, 'MS'),\n",
       " Text(36, 0, 'NE'),\n",
       " Text(37, 0, 'IA'),\n",
       " Text(38, 0, 'AK'),\n",
       " Text(39, 0, 'NJ'),\n",
       " Text(40, 0, 'HI'),\n",
       " Text(41, 0, 'DE'),\n",
       " Text(42, 0, 'NM'),\n",
       " Text(43, 0, 'ND'),\n",
       " Text(44, 0, 'NH'),\n",
       " Text(45, 0, 'MT'),\n",
       " Text(46, 0, 'ME'),\n",
       " Text(47, 0, 'VT'),\n",
       " Text(48, 0, 'SD'),\n",
       " Text(49, 0, 'RI'),\n",
       " Text(50, 0, 'WY')]"
      ]
     },
     "execution_count": 32,
     "metadata": {},
     "output_type": "execute_result"
    },
    {
     "data": {
      "image/png": "[encoded data removed]",
      "text/plain": [
       "<Figure size 1500x1000 with 1 Axes>"
      ]
     },
     "metadata": {},
     "output_type": "display_data"
    }
   ],
   "source": [
    "#3.3 visualization\n",
    "\n",
    "import matplotlib.patches as mpatches\n",
    "\n",
    "#setting the seaborn style to darkgrid\n",
    "sns.set(style=\"whitegrid\")\n",
    "\n",
    "plt.figure(figsize=(15, 10))\n",
    "\n",
    "\n",
    "bar_total= sns.barplot(x=\"state\",  y=\"total_sales\", data=prop_scoot, color='red')\n",
    "\n",
    "\n",
    "prop_scoot[\"scooter_sales\"] = prop_scoot[\"prop_scooters\"] * prop_scoot[\"total_sales\"]\n",
    "\n",
    "\n",
    "bar_scooter = sns.barplot(x=\"state\", y=\"scooter_sales\", data=prop_scoot, ci=None,  color='yellow')\n",
    "\n",
    "\n",
    "bar_total.set(ylabel='Sales Amount', xlabel='State')\n",
    "bar_total.set(title='Proportion of Scooter Sales to Total Sales by State')\n",
    "\n",
    "\n",
    "top_legend = mpatches.Patch(color='red', label='Total Sales')\n",
    "bottom_legend = mpatches.Patch(color='yellow', label='Scooters Sales')\n",
    "plt.legend(handles=[top_legend, bottom_legend])\n",
    "\n",
    "#setting a rotation parameter for the x axis to avoid overlapping labels\n",
    "bar_total.set_xticklabels(bar_total.get_xticklabels(),rotation=90)\n",
    "\n",
    "#setting style as plain to avoid scientific notation for cumulative sales\n",
    "bar_total.ticklabel_format(style='plain', axis='y')\n",
    "\n",
    "\n",
    "plt.show()"
   ]
  },
  {
   "cell_type": "markdown",
   "id": "421b0c9b",
   "metadata": {},
   "source": [
    "\n",
    "## Part 4: Takeaways from the analysis\n",
    "\n",
    "Provide your thoughts about the analysis above by answering the following questions in the blank markdown cells provided below. No code should be run for this section.\n",
    "\n",
    "\n",
    "   1. (Part 1) What are some potential hypotheses as to why the top 5 performing states have the highest sales amounts?  Describe how you would test your hypotheses in further analysis.  Do not conduct any additional analyses or write any more queries, just describe in words.\n",
    "          \n",
    "          \n",
    "   2. (Part 1) What are some potential hypotheses as to why the bottom 5 performing states have the lowest sales amounts?  Describe how you would test your hypotheses in further analysis.  Do not conduct any additional analyses or write any more queries, just describe in words.\n",
    "   \n",
    "   \n",
    "   3. (Part 2): How would you characterize the historical performance of the dealerships visualized in Part 2 (e.g. good, bad, growing, declining, etc.)?  Describe some of the trends in relative performance over time for the dealerships.  Be specific and cite specific elements of the visualization created in Part 2 to support your claims.  Specify any additional factors you would want to consider that would influence your performance assessment. \n",
    "     \n",
    "     \n",
    "   4. (Part 3):  How would you describe the relationship between product mix (i.e. proportion of scooters sold) and total sales?  Be specific and cite specific elements of the visualization created in Part 3 to support your claims.\n",
    "\n",
    "   \n",
    "   5. (Part 3): What are some potential hypotheses as to why product mix and sales are related in the manner described in 4.4?  Describe how you would test your hypotheses in further analysis.  Do not conduct any additional analyses or write any more queries, just describe in words."
   ]
  },
  {
   "cell_type": "markdown",
   "id": "03d3e7ac",
   "metadata": {},
   "source": [
    "### Part 4 Responses"
   ]
  },
  {
   "cell_type": "markdown",
   "id": "c01e7635",
   "metadata": {},
   "source": [
    "For each of the following questions, answer in as much preciseness and clarity that you can. Refer back to the tables and plots that you have created to back up your answers if necessary. Answer each question in the cell below. You are NOT to code anything for this section. This is for you to reflect on the analysis developed in response to Parts 1-3."
   ]
  },
  {
   "cell_type": "markdown",
   "id": "837c37b2",
   "metadata": {},
   "source": [
    "1. (Part 1) What are some potential hypotheses as to why the top 5 performing states have the highest sales amounts?  Describe how you would test your hypotheses in further analysis.  Do not conduct any additional analyses or write any more queries, just describe in words."
   ]
  },
  {
   "cell_type": "markdown",
   "id": "3c4f0c3b",
   "metadata": {},
   "source": [
    "The high amount of sales in the top five states can be because of the following reasons: a. Higher income of the population increasing their purchasing power. b. More aggressive marketing stratgeies c. Low rate of excise tax  \n",
    "\n",
    "Income, marketing, and rate of excise tax can be tested by creating the variables of income of the population, amount of money spent on marketing of the product, and the excise-taxt-rate. A linear regression can be used to regress these varaible on the sales amount as the dependent variable and rest of the three variables as independent variable. \n",
    "\n"
   ]
  },
  {
   "cell_type": "markdown",
   "id": "68b5e379",
   "metadata": {},
   "source": [
    " 2. (Part 1) What are some potential hypotheses as to why the bottom 5 performing states have the lowest sales amounts?  Describe how you would test your hypotheses in further analysis.  Do not conduct any additional analyses or write any more queries, just describe in words."
   ]
  },
  {
   "cell_type": "markdown",
   "id": "f5bf8038",
   "metadata": {},
   "source": [
    "The low amount of sales in the top five states can be because of the following reasons: a. Lower income of the population increasing their purchasing power. b. Less aggressive marketing stratgeies c. High amount of excise tax Income, marketing, and the rate of excise tax can be tested by creating the variables of income of the population, amount of money spent on marketing of the product, and the excise-tax-rate. A linear regression can be used to regress these varaible on the sales amount as the dependent variable and rest of the three variables as independent variable."
   ]
  },
  {
   "cell_type": "markdown",
   "id": "a2dc1d0a",
   "metadata": {},
   "source": [
    "3. (Part 2): How would you characterize the historical performance of the dealerships visualized in Part 2 (e.g. good, bad, growing, declining, etc.)?  Describe some of the trends in relative performance over time for the dealerships.  Be specific and cite specific elements of the visualization created in Part 2 to support your claims.  Specify any additional factors you would want to consider that could influence your performance assessment. \n"
   ]
  },
  {
   "cell_type": "markdown",
   "id": "abc8719c",
   "metadata": {},
   "source": [
    "The historical performance of the dealerships visualized are growing. These are the top performing dealerships across two top performing states, California and Texas. As seen from the line plot, the dealership that has been performing relatively better than the others over the specified date range is the one with ID=1. The dealership with ID=19 was doing as good as ID=1 till the July of 2018, after that the clear winner is ID=1 with the highest cumulative sales as compared to others from July 2018. Among the 5 dealerships visualized, the one with ID=3 has been performing poorly as compared to others. While all the dealerships have been growing, the dealership with ID=14 has been somewhat constant from October 2018 with very slight increases from April 2019. It can also be seen that on July 2018, all the dealerships except ID=3 had a very similar amount of cumulative sales which may be due to various factors that affect the sales volumes in order for the dealerships to perform almost equally good. \n",
    "\n",
    "The figure is a seaborn line chart and is titled historic cumulative sales with cumulative sales on the y-axis and the sales transaction date on the x-axis. The date range of the plot is from January 2017 to July 2019. The plot has been grouped with different colors and sized based on the dealership parameter of the dataframe. It is a time series plot which provides us with the historical pattern of cumulative sales for the top performing dealerships over the date range specified.  \n",
    "\n",
    "I would like to consider the state parameter to create two subplots using the col attribute on the state parameter and understand which state has the top performing dealership. Analyzing the dealerships based on the state will provide a clear and consice view of the historal sales trends. "
   ]
  },
  {
   "cell_type": "markdown",
   "id": "1568c480",
   "metadata": {},
   "source": [
    " 4. (Part 3):  How would you describe the relationship between product mix (i.e. proportion of scooters sold) and total sales?  Be specific and cite specific elements of the visualization created in Part 3 to support your claims.\n"
   ]
  },
  {
   "cell_type": "markdown",
   "id": "045e8abe",
   "metadata": {},
   "source": [
    "The plot added is a seaborn boxplot representing the proportion of scooter sales to the total amount of sales for different states of US. The x axis represents the states which are taken into consideration. The y axis represents the sales amount of these vehicles. The title of the plot is Proportion of scooter sales to total sales by state. \n",
    "\n",
    " The sales of scooters and sales of all vehicles are differentiated by colors in the bar. The yellow shaded portion represents the sales amount of the scooter, and the red shaded portion represents the sales amount of the total number of vehicles. For example, In Texas, the total sales amount of scooters is 0.8 million and the total sales amount of vehicles is 13 million, this indicates the proportion of sales number of scooters to total sales amount of vehicles is 6.2% for Texas. \n",
    "\n",
    "It is clearly visible that the trend of the graph is declining, i.e., the state with the highest total sales amount is kept first (TX), followed by the state with the second-highest total sales amount of vehicle CA, and so on. Hence the trend of the graph is declining and there are 15 states taken into consideration in total. The state with the highest sales number of vehicles (13 million) is Texas and its proportion of scooter sales to the total amount of vehicle sales is 6.15%. The state with the least number of vehicles is Oregon (1 million) and its proportion of scooter sales to the total amount of vehicle sales is 10%. This clearly indicates that the descending order of states in the graph is followed only according to the total sales of vehicles and not according to the proportion of scooter sales to the total amount of vehicle sales. \n",
    "\n",
    "The top 5 states with the highest sales number of vehicles are TX (13 million), CA (11 million), IL (10.5 million), VA (8 million), and NJ (7.25 million). The proportion of scooter sales to the total amount of sales for the top 5 states with the highest sales number of vehicles is TX (6.5%), CA (7%), IL (6.8%), VA (6.7%), and NJ (6.8%). The highest proportion of scooter sales to the total amount of sales (10%) is for the state of Oregon. It is evident from the graph that the proportion of scooter sales to the total amount of sales for different states of the US is less than 10% for the given states. So, the proportion of scooter sales to the total amount of sales falls by nearly 6%. "
   ]
  },
  {
   "cell_type": "markdown",
   "id": "721fe160",
   "metadata": {},
   "source": [
    " 5. (Part 3): What are some potential hypotheses as to why product mix and sales are related in the manner described in 5?  Describe how you would test your hypotheses in further analysis.  Do not conduct any additional analyses or write any more queries, just describe in words."
   ]
  },
  {
   "cell_type": "markdown",
   "id": "ae8cd758",
   "metadata": {},
   "source": [
    "The proportion of scooter sales to the total amount of sales for different states of the US is less than 10% for the given states which indicates that the scooter sales are less. One of the hypotheses is that customers find it convenient to use other vehicles in traffic when compared to scooters which results in lower scooter sales. The second hypothesis is that customers find other vehicles are more fuel efficient when compared to scooters which potentially resulted in lower sales rates of scooters. The third hypothesis is that customers are finding other vehicles safer when compared to scooters. \n",
    "\n",
    "In order to test these 3 different hypotheses, one of the potential techniques is to use paired t-test. For the first hypothesis, it will test the effect of convenience on the sales of scooters and other vehicles in a state. For the second hypothesis it will test the effect of fuel efficiency on the sales of scooters and other vehicles of a state. For the third hypothesis it will test the effect of safety on the sales of scooters and other vehicles of a state. "
   ]
  }
 ],
 "metadata": {
  "kernelspec": {
   "display_name": "Python 3 (ipykernel)",
   "language": "python",
   "name": "python3"
  },
  "language_info": {
   "codemirror_mode": {
    "name": "ipython",
    "version": 3
   },
   "file_extension": ".py",
   "mimetype": "text/x-python",
   "name": "python",
   "nbconvert_exporter": "python",
   "pygments_lexer": "ipython3",
   "version": "3.9.13"
  }
 },
 "nbformat": 4,
 "nbformat_minor": 5
}
